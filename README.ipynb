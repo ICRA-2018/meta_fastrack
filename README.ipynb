{
 "cells": [
  {
   "cell_type": "markdown",
   "metadata": {},
   "source": [
    "# Meta-FaSTrack\n",
    "Meta-planning + Fast and Safe Tracking (FaSTrack): effectively blending fast planning methods with slower, reachability-based safety guarantees for online safe trajectory planning. Please refer to our ICRA 2018 [paper](https://arxiv.org/abs/1710.04731) for technical details.\n",
    "\n",
    "**NOTE:** This repository is going under a major refactor to ensure efficiency and continuing reliability. In the meantime, please check out a much more stable version of the original FaSTrack idea [here](https://github.com/HJReachability/fastrack/).\n",
    "\n",
    "## Repository organization\n",
    "All code in this repository is written in the Robot Operating System (ROS) framework, and as such is broken up into atomic packages that implement specific functionality. The `ros/` directory is the root workspace, and individual packages live inside the `ros/src/` directory.\n",
    "\n",
    "## Usage\n",
    "First, make sure you have ROS installed on your system. The project was developed in Jade, but it should be compatible with anything past Hydro. Please let us know if you have any compatibility issues.\n",
    "\n",
    "`Meta-FaSTrack` currently depends upon the [crazyflie_clean](https://github.com/dfridovi/crazyflie_clean) repository, which contains drivers and utilities for the HSL's Crazyflie 2.0 testbed. We intend to remove this build dependency in the future so that `Tracking` can be used more easily in other contexts. This will be part of a larger code reorganization/refactor.\n",
    "\n",
    "Other dependencies:\n",
    "* [Gtest](https://github.com/google/googletest) -- Google's C++ unit testing library\n",
    "* [Eigen](https://eigen.tuxfamily.org) -- a header-only linear algebra library for C++\n",
    "* [OMPL](http://ompl.kavrakilab.org) -- an open C++ library for motion planning (recommend v1.2.1 to avoid g++5 dependency)\n",
    "* [MATIO](https://github.com/tbeu/matio) -- an open C library for MATLAB MAT file I/O\n",
    "* [FLANN](http://www.cs.ubc.ca/research/flann/) -- an open source library for fast (approximate) nearest neighbors\n",
    "\n",
    "You must begin by building and sourcing the `crazyflie_clean` repository. Instructions may be found in that project's README. To build `Meta-FaSTrack`, open a terminal window and navigate to the `ros/` directory. Then run:"
   ]
  },
  {
   "cell_type": "code",
   "execution_count": null,
   "metadata": {},
   "outputs": [],
   "source": [
    "catkin_make"
   ]
  },
  {
   "cell_type": "markdown",
   "metadata": {},
   "source": [
    "Every time you open a new terminal, you'll have to tell ROS how to find this package. Do this by running the following command from the `ros/` directory:"
   ]
  },
  {
   "cell_type": "code",
   "execution_count": null,
   "metadata": {},
   "outputs": [],
   "source": [
    "source devel/setup.bash"
   ]
  },
  {
   "cell_type": "markdown",
   "metadata": {},
   "source": [
    "`Tracking` includes two demos, one software and one hardware. To run the hardware demo, you will need physical hardware access. For instructions on how to set that up, please contact us. The software demo may be launched as follows. Note that these commands must be run in different terminal windows."
   ]
  },
  {
   "cell_type": "code",
   "execution_count": null,
   "metadata": {},
   "outputs": [],
   "source": [
    "roslaunch meta_planner rviz.launch\n",
    "roslaunch meta_planner software_demo.launch"
   ]
  },
  {
   "cell_type": "markdown",
   "metadata": {},
   "source": [
    "To run unit tests, type:"
   ]
  },
  {
   "cell_type": "code",
   "execution_count": null,
   "metadata": {},
   "outputs": [],
   "source": [
    "catkin_make run_tests"
   ]
  },
  {
   "cell_type": "markdown",
   "metadata": {},
   "source": [
    "## C++ reference materials\n",
    "We attempt to adhere to the philosophy put forward in the [Google C++ Style Guide](https://google.github.io/styleguide/cppguide.html). Our code is written _for the reader, not the writer_. We write comments liberally and use inheritance whenever it makes sense.\n",
    "\n",
    "A few tips, tricks, and customs that you'll find throughout our code:\n",
    "* Lines of code are no longer than 80 characters.\n",
    "* The names of all member variables of a class end with an underscore, e.g. `foo_`.\n",
    "* When iterating through a vector, we name the index something like `ii` instead of just `i`. This makes it super easy to find and replace the iterator later.\n",
    "* We use the `const` specifier whenever possible.\n",
    "* We try to include optional guard statements with meaningful debug messages wherever possible. These may be toggled on/off with the `ENABLE_DEBUG_MESSAGES` cmake option.\n",
    "* Whenever it makes sense, we write unit tests for self-contained functionality and integration tests for dependent functions and classes. These are stored in the `test/` directory."
   ]
  }
 ],

 "metadata": {
  "kernelspec": {
   "display_name": "Bash",
   "language": "bash",
   "name": "bash"
  },
  "language_info": {
   "codemirror_mode": "shell",
   "file_extension": ".sh",
   "mimetype": "text/x-sh",
   "name": "bash"
  }
 },
 "nbformat": 4,
 "nbformat_minor": 2
}
